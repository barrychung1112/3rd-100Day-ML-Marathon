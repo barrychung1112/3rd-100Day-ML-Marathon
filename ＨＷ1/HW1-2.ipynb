{
 "cells": [
  {
   "cell_type": "markdown",
   "metadata": {},
   "source": [
    "我所選擇的Dataset是India - Trade Data。\n",
    "選擇這筆資料的原因是可以追蹤印度的出口產品和出口增加速度，觀察是否出現規律變化。\n",
    "資料來源也十分可靠，來自[印度政府貿易部門]{https://commerce-app.gov.in/eidb/Default.asp} 的網路爬蟲。\n",
    "資料格式是csv檔案的tidy data，包含五個欄位，國際商品統一分類代碼，貨物名稱，出口國家和年份以及出口金額（美金）。\n",
    "關鍵指標是每項產品出口金額對時間的曲線斜率，代表該項產品的增長速度變化。"
   ]
  }
 ],
 "metadata": {
  "kernelspec": {
   "display_name": "Python 3",
   "language": "python",
   "name": "python3"
  },
  "language_info": {
   "codemirror_mode": {
    "name": "ipython",
    "version": 3
   },
   "file_extension": ".py",
   "mimetype": "text/x-python",
   "name": "python",
   "nbconvert_exporter": "python",
   "pygments_lexer": "ipython3",
   "version": "3.7.3"
  }
 },
 "nbformat": 4,
 "nbformat_minor": 4
}
