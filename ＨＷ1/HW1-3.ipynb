{
 "cells": [
  {
   "cell_type": "code",
   "execution_count": null,
   "metadata": {},
   "outputs": [],
   "source": [
    "業績的提升在於縮短減少司機從完成任務到接到下一位客人所在地之間的時間成本和距離成本。\n",
    "不只可以增加司機的接客率，客戶等待的時間也會減少。\n",
    "透過到政府資料開放平臺可以取得車輛偵測器動態資料的ＪＳＯＮ檔，找出不同時段的交通需求熱點。\n",
    "透過每月淨利的提升來驗證是否有效。"
   ]
  }
 ],
 "metadata": {
  "kernelspec": {
   "display_name": "Python 3",
   "language": "python",
   "name": "python3"
  },
  "language_info": {
   "codemirror_mode": {
    "name": "ipython",
    "version": 3
   },
   "file_extension": ".py",
   "mimetype": "text/x-python",
   "name": "python",
   "nbconvert_exporter": "python",
   "pygments_lexer": "ipython3",
   "version": "3.7.3"
  }
 },
 "nbformat": 4,
 "nbformat_minor": 4
}
