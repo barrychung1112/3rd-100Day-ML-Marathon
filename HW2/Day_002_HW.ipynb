{
 "cells": [
  {
   "cell_type": "markdown",
   "metadata": {},
   "source": [
    "我認為未來機器學習可以應用於犯罪預防及工安預防。隨著影像辨識的發展和像素更高的鏡頭出現，機器的判斷速度會遠高於人類，"
   ]
  },
  {
   "cell_type": "markdown",
   "metadata": {},
   "source": [
    "並且擁有更加細膩的觀察能力，能夠透過微動作以及生命特徵判斷人的精神狀態以及是否有劇烈的心理活動，進而避免精神狀態差的人員進行高風險工作。\n",
    "犯罪者也是如此，比如檢測到酒醉或心理狀態劇烈波動，則關閉手動駕駛模式，避免類似倫敦恐攻的事件發生。"
   ]
  },
  {
   "cell_type": "markdown",
   "metadata": {},
   "source": []
  }
 ],
 "metadata": {
  "kernelspec": {
   "display_name": "Python 3",
   "language": "python",
   "name": "python3"
  },
  "language_info": {
   "codemirror_mode": {
    "name": "ipython",
    "version": 3
   },
   "file_extension": ".py",
   "mimetype": "text/x-python",
   "name": "python",
   "nbconvert_exporter": "python",
   "pygments_lexer": "ipython3",
   "version": "3.7.3"
  }
 },
 "nbformat": 4,
 "nbformat_minor": 4
}
